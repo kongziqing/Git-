{
 "cells": [
  {
   "cell_type": "code",
   "execution_count": 1,
   "metadata": {},
   "outputs": [],
   "source": [
    "import pandas as pd\n",
    "import numpy as np\n",
    "import matplotlib.pyplot as plt#约定俗成的写法plt"
   ]
  },
  {
   "cell_type": "code",
   "execution_count": 2,
   "metadata": {},
   "outputs": [],
   "source": [
    "import matplotlib"
   ]
  },
  {
   "cell_type": "code",
   "execution_count": 3,
   "metadata": {},
   "outputs": [],
   "source": [
    "#读取数据\n",
    "dt = pd.read_csv('F:\\\\小美赛\\\\数据\\\\交通赛数据_上\\\\20140803_train.txt',names = ['ID','纬度','经度','载客','时间'])\n",
    "\n",
    "#写入数据\n",
    "Time = '08-03'\n",
    "writer = pd.ExcelWriter('C:\\\\Users\\\\kongzi\\\\Desktop\\\\处理数据\\\\08-03.xlsx')"
   ]
  },
  {
   "cell_type": "code",
   "execution_count": 4,
   "metadata": {},
   "outputs": [],
   "source": [
    "#待修改\n",
    "data = pd.DataFrame(dt)"
   ]
  },
  {
   "cell_type": "code",
   "execution_count": 5,
   "metadata": {},
   "outputs": [],
   "source": [
    "#matplotlib.rcParams['agg.path.chunksize'] = 10000\n",
    "#matplotlib.rcParams.update(matplotlib.rc_params())\n",
    "#绘制全部的路径图\n",
    "#plt.scatter(data['经度'][:],data['纬度'][:],s = 2)\n",
    "#plt.show()"
   ]
  },
  {
   "cell_type": "code",
   "execution_count": 6,
   "metadata": {},
   "outputs": [],
   "source": [
    "#plt.plot(data['经度'],data['纬度'])\n",
    "\n",
    "#plt.show()\n",
    "#plt.figure(2)\n",
    "#绘制前50000的路径图\n",
    "#plt.scatter(data['经度'][0:80000],data['纬度'][0:80000],s = 2)\n",
    "#plt.show()"
   ]
  },
  {
   "cell_type": "code",
   "execution_count": 7,
   "metadata": {},
   "outputs": [],
   "source": [
    "#数据筛选\n",
    "#选择路径在矩形框范围内的数据，右上角范围为（30.6214，104.094），左下角范围为（30.6195，104.058）\n",
    "def data_road1(data):\n",
    "    road = data[(data['纬度']>=30.6195)&(data['纬度']<=30.6214)&(data['经度']>=104.058)&(data['经度']<=104.094)].reset_index(drop=True)\n",
    "    return road"
   ]
  },
  {
   "cell_type": "code",
   "execution_count": 8,
   "metadata": {},
   "outputs": [],
   "source": [
    "data = data_road1(data)\n",
    "#data\n"
   ]
  },
  {
   "cell_type": "code",
   "execution_count": 9,
   "metadata": {},
   "outputs": [],
   "source": [
    "#根据出租车ID分段\n",
    "def segments(data):\n",
    "    seg = []\n",
    "    seg_bound = 0\n",
    "    n = 1\n",
    "    for i in data['ID']:\n",
    "        if n<len(data):\n",
    "            if data['ID'][n-1] == i and data['ID'][n] == i:\n",
    "                n += 1\n",
    "            else:\n",
    "                seg.append(data[seg_bound:n])\n",
    "                seg_bound = n\n",
    "                n+=1\n",
    "        else:\n",
    "            seg.append(data[seg_bound:n])\n",
    "    return seg\n",
    "        \n",
    "    "
   ]
  },
  {
   "cell_type": "code",
   "execution_count": 10,
   "metadata": {},
   "outputs": [
    {
     "data": {
      "text/plain": [
       "12011"
      ]
     },
     "execution_count": 10,
     "metadata": {},
     "output_type": "execute_result"
    }
   ],
   "source": [
    "#对数据按id分段\n",
    "seg = segments(data)\n",
    "len(seg)"
   ]
  },
  {
   "cell_type": "code",
   "execution_count": 11,
   "metadata": {},
   "outputs": [],
   "source": [
    "#len(seg)"
   ]
  },
  {
   "cell_type": "code",
   "execution_count": 12,
   "metadata": {},
   "outputs": [],
   "source": [
    "#seg0 = seg[0][:]"
   ]
  },
  {
   "cell_type": "code",
   "execution_count": 13,
   "metadata": {},
   "outputs": [],
   "source": [
    "#seg0"
   ]
  },
  {
   "cell_type": "code",
   "execution_count": 14,
   "metadata": {},
   "outputs": [],
   "source": [
    "#对分类好的数据依据时间进行排序并重新设置索引\n",
    "#seg0 = seg0.sort_values(by = '时间')[:].reset_index(drop=True)\n",
    "#seg0"
   ]
  },
  {
   "cell_type": "code",
   "execution_count": 15,
   "metadata": {},
   "outputs": [],
   "source": [
    "#删除分段中数据长度小于3的分段\n",
    "def delete_less3(seg):   \n",
    "    newseg=[]\n",
    "    for i in range(len(seg)):\n",
    "        if len(seg[i])>2:\n",
    "            newseg.append(seg[i])\n",
    "    return newseg\n",
    "seg = delete_less3(seg)           \n",
    "#此段代码造成严重错误，后缀讨论\n",
    "#for i in range(len(seg)):\n",
    "#    if i >= len(seg):\n",
    " #        break\n",
    "\n",
    "#    if len(seg[i]) < 3:\n",
    "#        del seg[i]\n",
    "\n",
    "\n",
    "#len(seg)"
   ]
  },
  {
   "cell_type": "code",
   "execution_count": 16,
   "metadata": {},
   "outputs": [],
   "source": [
    "#seg[193]"
   ]
  },
  {
   "cell_type": "code",
   "execution_count": 17,
   "metadata": {},
   "outputs": [],
   "source": [
    "#去除分段中是否有重复的行\n",
    "def delet_duplicates(seg):\n",
    "    seg_test =[] \n",
    "    for i in range(len(seg)):\n",
    "        seg_test.append(seg[i].drop_duplicates('时间'))\n",
    "    return seg_test\n",
    "seg = delet_duplicates(seg)"
   ]
  },
  {
   "cell_type": "code",
   "execution_count": 18,
   "metadata": {},
   "outputs": [],
   "source": [
    "#根据经纬度计算两点之间距离，单位（m）\n",
    "from math import radians,cos,sin,asin,sqrt\n",
    "def geodistance(lat1,lng1,lat2,lng2):\n",
    "    #经纬度换算成弧度\n",
    "    lat1,lng1,lat2,lng2= map(radians,[float(lat1),float(lng1),float(lat2),float(lng2)])\n",
    "    dlon = lng2-lng1\n",
    "    dlat = lat2-lat1\n",
    "    a = sin(dlat/2)**2 + cos(lat1)*cos(lat2)*sin(dlon/2)**2\n",
    "    distance = 2*asin(sqrt(a))*6371*1000#地球平均半径，6371km\n",
    "    #distance = round(distance/1000,3)\n",
    "    return distance\n",
    "\n",
    "#距离公式测试\n",
    "#geodistance(120.12802999999997,30.28708,115.86572000000001,28.7427)\n"
   ]
  },
  {
   "cell_type": "code",
   "execution_count": 19,
   "metadata": {},
   "outputs": [],
   "source": [
    "#seg[193]"
   ]
  },
  {
   "cell_type": "code",
   "execution_count": 20,
   "metadata": {},
   "outputs": [],
   "source": [
    "#seg[319]"
   ]
  },
  {
   "cell_type": "code",
   "execution_count": 21,
   "metadata": {},
   "outputs": [],
   "source": [
    "#seg0=seg[0]\n",
    "#seg0 = seg0.sort_values(by = '时间')[:].reset_index(drop=True)\n",
    "#v=pd.DataFrame(speed(seg0),columns = ['速度'])\n",
    "#v"
   ]
  },
  {
   "cell_type": "code",
   "execution_count": 22,
   "metadata": {},
   "outputs": [],
   "source": [
    "#对于dataframe取其中某一行\n",
    "#seg[0][2:3]\n",
    "\n",
    "#ID\t经度\t纬度\t载客\t时间\n",
    "#2\t1\t30.624811\t104.136587\t1\t2014/8/3 21:20:17"
   ]
  },
  {
   "cell_type": "code",
   "execution_count": 23,
   "metadata": {},
   "outputs": [],
   "source": [
    "#获取两段时间内相隔的秒数\n",
    "#a =( pd.to_datetime(seg['时间'][1])-pd.to_datetime(seg['时间'][0])).seconds\n"
   ]
  },
  {
   "cell_type": "code",
   "execution_count": 24,
   "metadata": {},
   "outputs": [],
   "source": [
    "#计算出租车实时速度变化情况\n",
    "def speed(seg):\n",
    "    v = []\n",
    "    for i in range(len(seg)):\n",
    "        if i ==0:\n",
    "            \n",
    "            distance = geodistance(seg['纬度'][i],seg['经度'][i],seg['纬度'][i+1],seg['经度'][i+1])\n",
    "            time = ( pd.to_datetime(seg['时间'][i+1])-pd.to_datetime(seg['时间'][i])).seconds\n",
    "            v.append(distance/time)\n",
    "\n",
    "        else:\n",
    "            try:\n",
    "                distance = geodistance(seg['纬度'][i-1],seg['经度'][i-1],seg['纬度'][i],seg['经度'][i])\n",
    "                time = ( pd.to_datetime(seg['时间'][i])-pd.to_datetime(seg['时间'][i-1])).seconds\n",
    "                v.append(distance/time)\n",
    "            except KeyError:\n",
    "                print(i,j,'i!=0出错了')\n",
    "                break\n",
    "    return v\n",
    "           "
   ]
  },
  {
   "cell_type": "code",
   "execution_count": 25,
   "metadata": {},
   "outputs": [],
   "source": [
    "#将速度合并进原数据中\n",
    "#seg0 = seg0.sort_values(by = '时间')[:].reset_index(drop=True)\n",
    "def seg_join(seg):\n",
    "    last_data=[]\n",
    "    for j in range(len(seg)):\n",
    "        seg0 = seg[j][:]\n",
    "        seg0 = seg0.sort_values(by = '时间')[:].reset_index(drop=True)\n",
    "        try:\n",
    "            v=pd.DataFrame(speed(seg0),columns = ['速度'])\n",
    "        except KeyError:\n",
    "            print('j=',j)\n",
    "        last_data.append(seg0.join(v))\n",
    "    return last_data\n",
    "data1 = seg_join(seg)"
   ]
  },
  {
   "cell_type": "code",
   "execution_count": 26,
   "metadata": {},
   "outputs": [],
   "source": [
    "#将原分段数据进行合并\n",
    "data2 = pd.concat(data1).reset_index(drop=True)\n",
    "#data2"
   ]
  },
  {
   "cell_type": "code",
   "execution_count": 27,
   "metadata": {},
   "outputs": [],
   "source": [
    "#选择时间和速度，以时间进行聚合，求速度平均\n",
    "data3 = data2[['时间','速度']]"
   ]
  },
  {
   "cell_type": "code",
   "execution_count": 28,
   "metadata": {},
   "outputs": [],
   "source": [
    "data4 = data3.groupby('时间').mean()\n",
    "#data4"
   ]
  },
  {
   "cell_type": "code",
   "execution_count": 29,
   "metadata": {},
   "outputs": [],
   "source": [
    "data5 = data4.reset_index()\n",
    "#data5"
   ]
  },
  {
   "cell_type": "code",
   "execution_count": 30,
   "metadata": {},
   "outputs": [],
   "source": [
    "data5['时间'] = pd.to_datetime(data5['时间'])\n",
    "data5.set_index('时间',inplace=True)\n",
    "#data5.info()"
   ]
  },
  {
   "cell_type": "code",
   "execution_count": 31,
   "metadata": {},
   "outputs": [],
   "source": [
    "data6 = data5.resample('1T').mean()\n",
    "#data6"
   ]
  },
  {
   "cell_type": "code",
   "execution_count": 32,
   "metadata": {},
   "outputs": [],
   "source": [
    "data6 = data6.reset_index()\n",
    "#data6"
   ]
  },
  {
   "cell_type": "code",
   "execution_count": 33,
   "metadata": {},
   "outputs": [],
   "source": [
    "s2 =pd.DataFrame(np.convolve(data6['速度'], np.ones((50,))/50))"
   ]
  },
  {
   "cell_type": "code",
   "execution_count": 34,
   "metadata": {},
   "outputs": [],
   "source": [
    "s2.columns=['速度']"
   ]
  },
  {
   "cell_type": "code",
   "execution_count": 35,
   "metadata": {},
   "outputs": [],
   "source": [
    "s1 = pd.DataFrame(data6['时间'])"
   ]
  },
  {
   "cell_type": "code",
   "execution_count": 36,
   "metadata": {},
   "outputs": [],
   "source": [
    "data7  = s1.join(s2)"
   ]
  },
  {
   "cell_type": "code",
   "execution_count": 37,
   "metadata": {},
   "outputs": [],
   "source": [
    "#data7"
   ]
  },
  {
   "cell_type": "code",
   "execution_count": 38,
   "metadata": {},
   "outputs": [],
   "source": [
    "#plt.plot(data7['时间'],data7['速度'])"
   ]
  },
  {
   "cell_type": "code",
   "execution_count": 39,
   "metadata": {},
   "outputs": [],
   "source": [
    "\n",
    "data7.to_excel(writer,Time)\n",
    "writer.save()"
   ]
  },
  {
   "cell_type": "code",
   "execution_count": 40,
   "metadata": {},
   "outputs": [
    {
     "data": {
      "text/html": [
       "<div>\n",
       "<style scoped>\n",
       "    .dataframe tbody tr th:only-of-type {\n",
       "        vertical-align: middle;\n",
       "    }\n",
       "\n",
       "    .dataframe tbody tr th {\n",
       "        vertical-align: top;\n",
       "    }\n",
       "\n",
       "    .dataframe thead th {\n",
       "        text-align: right;\n",
       "    }\n",
       "</style>\n",
       "<table border=\"1\" class=\"dataframe\">\n",
       "  <thead>\n",
       "    <tr style=\"text-align: right;\">\n",
       "      <th></th>\n",
       "      <th>时间</th>\n",
       "      <th>速度</th>\n",
       "    </tr>\n",
       "  </thead>\n",
       "  <tbody>\n",
       "    <tr>\n",
       "      <th>0</th>\n",
       "      <td>2014-08-03 06:00:00</td>\n",
       "      <td>0.212067</td>\n",
       "    </tr>\n",
       "    <tr>\n",
       "      <th>1</th>\n",
       "      <td>2014-08-03 06:01:00</td>\n",
       "      <td>0.465188</td>\n",
       "    </tr>\n",
       "    <tr>\n",
       "      <th>2</th>\n",
       "      <td>2014-08-03 06:02:00</td>\n",
       "      <td>0.684600</td>\n",
       "    </tr>\n",
       "    <tr>\n",
       "      <th>3</th>\n",
       "      <td>2014-08-03 06:03:00</td>\n",
       "      <td>0.890000</td>\n",
       "    </tr>\n",
       "    <tr>\n",
       "      <th>4</th>\n",
       "      <td>2014-08-03 06:04:00</td>\n",
       "      <td>1.101074</td>\n",
       "    </tr>\n",
       "    <tr>\n",
       "      <th>5</th>\n",
       "      <td>2014-08-03 06:05:00</td>\n",
       "      <td>1.326630</td>\n",
       "    </tr>\n",
       "    <tr>\n",
       "      <th>6</th>\n",
       "      <td>2014-08-03 06:06:00</td>\n",
       "      <td>1.565871</td>\n",
       "    </tr>\n",
       "    <tr>\n",
       "      <th>7</th>\n",
       "      <td>2014-08-03 06:07:00</td>\n",
       "      <td>1.779043</td>\n",
       "    </tr>\n",
       "    <tr>\n",
       "      <th>8</th>\n",
       "      <td>2014-08-03 06:08:00</td>\n",
       "      <td>1.977443</td>\n",
       "    </tr>\n",
       "    <tr>\n",
       "      <th>9</th>\n",
       "      <td>2014-08-03 06:09:00</td>\n",
       "      <td>2.170696</td>\n",
       "    </tr>\n",
       "    <tr>\n",
       "      <th>10</th>\n",
       "      <td>2014-08-03 06:10:00</td>\n",
       "      <td>2.394245</td>\n",
       "    </tr>\n",
       "    <tr>\n",
       "      <th>11</th>\n",
       "      <td>2014-08-03 06:11:00</td>\n",
       "      <td>2.618090</td>\n",
       "    </tr>\n",
       "    <tr>\n",
       "      <th>12</th>\n",
       "      <td>2014-08-03 06:12:00</td>\n",
       "      <td>2.829737</td>\n",
       "    </tr>\n",
       "    <tr>\n",
       "      <th>13</th>\n",
       "      <td>2014-08-03 06:13:00</td>\n",
       "      <td>3.069422</td>\n",
       "    </tr>\n",
       "    <tr>\n",
       "      <th>14</th>\n",
       "      <td>2014-08-03 06:14:00</td>\n",
       "      <td>3.318798</td>\n",
       "    </tr>\n",
       "    <tr>\n",
       "      <th>15</th>\n",
       "      <td>2014-08-03 06:15:00</td>\n",
       "      <td>3.572000</td>\n",
       "    </tr>\n",
       "    <tr>\n",
       "      <th>16</th>\n",
       "      <td>2014-08-03 06:16:00</td>\n",
       "      <td>3.849609</td>\n",
       "    </tr>\n",
       "    <tr>\n",
       "      <th>17</th>\n",
       "      <td>2014-08-03 06:17:00</td>\n",
       "      <td>4.105933</td>\n",
       "    </tr>\n",
       "    <tr>\n",
       "      <th>18</th>\n",
       "      <td>2014-08-03 06:18:00</td>\n",
       "      <td>4.313479</td>\n",
       "    </tr>\n",
       "    <tr>\n",
       "      <th>19</th>\n",
       "      <td>2014-08-03 06:19:00</td>\n",
       "      <td>4.457265</td>\n",
       "    </tr>\n",
       "    <tr>\n",
       "      <th>20</th>\n",
       "      <td>2014-08-03 06:20:00</td>\n",
       "      <td>4.629568</td>\n",
       "    </tr>\n",
       "    <tr>\n",
       "      <th>21</th>\n",
       "      <td>2014-08-03 06:21:00</td>\n",
       "      <td>4.843547</td>\n",
       "    </tr>\n",
       "    <tr>\n",
       "      <th>22</th>\n",
       "      <td>2014-08-03 06:22:00</td>\n",
       "      <td>5.099252</td>\n",
       "    </tr>\n",
       "    <tr>\n",
       "      <th>23</th>\n",
       "      <td>2014-08-03 06:23:00</td>\n",
       "      <td>5.360693</td>\n",
       "    </tr>\n",
       "    <tr>\n",
       "      <th>24</th>\n",
       "      <td>2014-08-03 06:24:00</td>\n",
       "      <td>5.610388</td>\n",
       "    </tr>\n",
       "    <tr>\n",
       "      <th>25</th>\n",
       "      <td>2014-08-03 06:25:00</td>\n",
       "      <td>5.823053</td>\n",
       "    </tr>\n",
       "    <tr>\n",
       "      <th>26</th>\n",
       "      <td>2014-08-03 06:26:00</td>\n",
       "      <td>6.014435</td>\n",
       "    </tr>\n",
       "    <tr>\n",
       "      <th>27</th>\n",
       "      <td>2014-08-03 06:27:00</td>\n",
       "      <td>6.237511</td>\n",
       "    </tr>\n",
       "    <tr>\n",
       "      <th>28</th>\n",
       "      <td>2014-08-03 06:28:00</td>\n",
       "      <td>6.466845</td>\n",
       "    </tr>\n",
       "    <tr>\n",
       "      <th>29</th>\n",
       "      <td>2014-08-03 06:29:00</td>\n",
       "      <td>6.698250</td>\n",
       "    </tr>\n",
       "    <tr>\n",
       "      <th>...</th>\n",
       "      <td>...</td>\n",
       "      <td>...</td>\n",
       "    </tr>\n",
       "    <tr>\n",
       "      <th>1050</th>\n",
       "      <td>2014-08-03 23:30:00</td>\n",
       "      <td>8.742133</td>\n",
       "    </tr>\n",
       "    <tr>\n",
       "      <th>1051</th>\n",
       "      <td>2014-08-03 23:31:00</td>\n",
       "      <td>8.759140</td>\n",
       "    </tr>\n",
       "    <tr>\n",
       "      <th>1052</th>\n",
       "      <td>2014-08-03 23:32:00</td>\n",
       "      <td>8.771775</td>\n",
       "    </tr>\n",
       "    <tr>\n",
       "      <th>1053</th>\n",
       "      <td>2014-08-03 23:33:00</td>\n",
       "      <td>8.778229</td>\n",
       "    </tr>\n",
       "    <tr>\n",
       "      <th>1054</th>\n",
       "      <td>2014-08-03 23:34:00</td>\n",
       "      <td>8.779163</td>\n",
       "    </tr>\n",
       "    <tr>\n",
       "      <th>1055</th>\n",
       "      <td>2014-08-03 23:35:00</td>\n",
       "      <td>8.787625</td>\n",
       "    </tr>\n",
       "    <tr>\n",
       "      <th>1056</th>\n",
       "      <td>2014-08-03 23:36:00</td>\n",
       "      <td>8.771313</td>\n",
       "    </tr>\n",
       "    <tr>\n",
       "      <th>1057</th>\n",
       "      <td>2014-08-03 23:37:00</td>\n",
       "      <td>8.768326</td>\n",
       "    </tr>\n",
       "    <tr>\n",
       "      <th>1058</th>\n",
       "      <td>2014-08-03 23:38:00</td>\n",
       "      <td>8.758512</td>\n",
       "    </tr>\n",
       "    <tr>\n",
       "      <th>1059</th>\n",
       "      <td>2014-08-03 23:39:00</td>\n",
       "      <td>8.773163</td>\n",
       "    </tr>\n",
       "    <tr>\n",
       "      <th>1060</th>\n",
       "      <td>2014-08-03 23:40:00</td>\n",
       "      <td>8.777436</td>\n",
       "    </tr>\n",
       "    <tr>\n",
       "      <th>1061</th>\n",
       "      <td>2014-08-03 23:41:00</td>\n",
       "      <td>8.795490</td>\n",
       "    </tr>\n",
       "    <tr>\n",
       "      <th>1062</th>\n",
       "      <td>2014-08-03 23:42:00</td>\n",
       "      <td>8.801664</td>\n",
       "    </tr>\n",
       "    <tr>\n",
       "      <th>1063</th>\n",
       "      <td>2014-08-03 23:43:00</td>\n",
       "      <td>8.817412</td>\n",
       "    </tr>\n",
       "    <tr>\n",
       "      <th>1064</th>\n",
       "      <td>2014-08-03 23:44:00</td>\n",
       "      <td>8.831983</td>\n",
       "    </tr>\n",
       "    <tr>\n",
       "      <th>1065</th>\n",
       "      <td>2014-08-03 23:45:00</td>\n",
       "      <td>8.856773</td>\n",
       "    </tr>\n",
       "    <tr>\n",
       "      <th>1066</th>\n",
       "      <td>2014-08-03 23:46:00</td>\n",
       "      <td>8.878250</td>\n",
       "    </tr>\n",
       "    <tr>\n",
       "      <th>1067</th>\n",
       "      <td>2014-08-03 23:47:00</td>\n",
       "      <td>8.894650</td>\n",
       "    </tr>\n",
       "    <tr>\n",
       "      <th>1068</th>\n",
       "      <td>2014-08-03 23:48:00</td>\n",
       "      <td>8.888256</td>\n",
       "    </tr>\n",
       "    <tr>\n",
       "      <th>1069</th>\n",
       "      <td>2014-08-03 23:49:00</td>\n",
       "      <td>8.892777</td>\n",
       "    </tr>\n",
       "    <tr>\n",
       "      <th>1070</th>\n",
       "      <td>2014-08-03 23:50:00</td>\n",
       "      <td>8.881718</td>\n",
       "    </tr>\n",
       "    <tr>\n",
       "      <th>1071</th>\n",
       "      <td>2014-08-03 23:51:00</td>\n",
       "      <td>8.900283</td>\n",
       "    </tr>\n",
       "    <tr>\n",
       "      <th>1072</th>\n",
       "      <td>2014-08-03 23:52:00</td>\n",
       "      <td>8.924076</td>\n",
       "    </tr>\n",
       "    <tr>\n",
       "      <th>1073</th>\n",
       "      <td>2014-08-03 23:53:00</td>\n",
       "      <td>8.925883</td>\n",
       "    </tr>\n",
       "    <tr>\n",
       "      <th>1074</th>\n",
       "      <td>2014-08-03 23:54:00</td>\n",
       "      <td>8.939446</td>\n",
       "    </tr>\n",
       "    <tr>\n",
       "      <th>1075</th>\n",
       "      <td>2014-08-03 23:55:00</td>\n",
       "      <td>8.965408</td>\n",
       "    </tr>\n",
       "    <tr>\n",
       "      <th>1076</th>\n",
       "      <td>2014-08-03 23:56:00</td>\n",
       "      <td>8.994056</td>\n",
       "    </tr>\n",
       "    <tr>\n",
       "      <th>1077</th>\n",
       "      <td>2014-08-03 23:57:00</td>\n",
       "      <td>8.994588</td>\n",
       "    </tr>\n",
       "    <tr>\n",
       "      <th>1078</th>\n",
       "      <td>2014-08-03 23:58:00</td>\n",
       "      <td>9.008128</td>\n",
       "    </tr>\n",
       "    <tr>\n",
       "      <th>1079</th>\n",
       "      <td>2014-08-03 23:59:00</td>\n",
       "      <td>9.007051</td>\n",
       "    </tr>\n",
       "  </tbody>\n",
       "</table>\n",
       "<p>1080 rows × 2 columns</p>\n",
       "</div>"
      ],
      "text/plain": [
       "                      时间        速度\n",
       "0    2014-08-03 06:00:00  0.212067\n",
       "1    2014-08-03 06:01:00  0.465188\n",
       "2    2014-08-03 06:02:00  0.684600\n",
       "3    2014-08-03 06:03:00  0.890000\n",
       "4    2014-08-03 06:04:00  1.101074\n",
       "5    2014-08-03 06:05:00  1.326630\n",
       "6    2014-08-03 06:06:00  1.565871\n",
       "7    2014-08-03 06:07:00  1.779043\n",
       "8    2014-08-03 06:08:00  1.977443\n",
       "9    2014-08-03 06:09:00  2.170696\n",
       "10   2014-08-03 06:10:00  2.394245\n",
       "11   2014-08-03 06:11:00  2.618090\n",
       "12   2014-08-03 06:12:00  2.829737\n",
       "13   2014-08-03 06:13:00  3.069422\n",
       "14   2014-08-03 06:14:00  3.318798\n",
       "15   2014-08-03 06:15:00  3.572000\n",
       "16   2014-08-03 06:16:00  3.849609\n",
       "17   2014-08-03 06:17:00  4.105933\n",
       "18   2014-08-03 06:18:00  4.313479\n",
       "19   2014-08-03 06:19:00  4.457265\n",
       "20   2014-08-03 06:20:00  4.629568\n",
       "21   2014-08-03 06:21:00  4.843547\n",
       "22   2014-08-03 06:22:00  5.099252\n",
       "23   2014-08-03 06:23:00  5.360693\n",
       "24   2014-08-03 06:24:00  5.610388\n",
       "25   2014-08-03 06:25:00  5.823053\n",
       "26   2014-08-03 06:26:00  6.014435\n",
       "27   2014-08-03 06:27:00  6.237511\n",
       "28   2014-08-03 06:28:00  6.466845\n",
       "29   2014-08-03 06:29:00  6.698250\n",
       "...                  ...       ...\n",
       "1050 2014-08-03 23:30:00  8.742133\n",
       "1051 2014-08-03 23:31:00  8.759140\n",
       "1052 2014-08-03 23:32:00  8.771775\n",
       "1053 2014-08-03 23:33:00  8.778229\n",
       "1054 2014-08-03 23:34:00  8.779163\n",
       "1055 2014-08-03 23:35:00  8.787625\n",
       "1056 2014-08-03 23:36:00  8.771313\n",
       "1057 2014-08-03 23:37:00  8.768326\n",
       "1058 2014-08-03 23:38:00  8.758512\n",
       "1059 2014-08-03 23:39:00  8.773163\n",
       "1060 2014-08-03 23:40:00  8.777436\n",
       "1061 2014-08-03 23:41:00  8.795490\n",
       "1062 2014-08-03 23:42:00  8.801664\n",
       "1063 2014-08-03 23:43:00  8.817412\n",
       "1064 2014-08-03 23:44:00  8.831983\n",
       "1065 2014-08-03 23:45:00  8.856773\n",
       "1066 2014-08-03 23:46:00  8.878250\n",
       "1067 2014-08-03 23:47:00  8.894650\n",
       "1068 2014-08-03 23:48:00  8.888256\n",
       "1069 2014-08-03 23:49:00  8.892777\n",
       "1070 2014-08-03 23:50:00  8.881718\n",
       "1071 2014-08-03 23:51:00  8.900283\n",
       "1072 2014-08-03 23:52:00  8.924076\n",
       "1073 2014-08-03 23:53:00  8.925883\n",
       "1074 2014-08-03 23:54:00  8.939446\n",
       "1075 2014-08-03 23:55:00  8.965408\n",
       "1076 2014-08-03 23:56:00  8.994056\n",
       "1077 2014-08-03 23:57:00  8.994588\n",
       "1078 2014-08-03 23:58:00  9.008128\n",
       "1079 2014-08-03 23:59:00  9.007051\n",
       "\n",
       "[1080 rows x 2 columns]"
      ]
     },
     "execution_count": 40,
     "metadata": {},
     "output_type": "execute_result"
    }
   ],
   "source": [
    "data7"
   ]
  },
  {
   "cell_type": "code",
   "execution_count": 41,
   "metadata": {},
   "outputs": [
    {
     "name": "stderr",
     "output_type": "stream",
     "text": [
      "D:\\Anaconda3\\lib\\site-packages\\pandas\\plotting\\_converter.py:129: FutureWarning: Using an implicitly registered datetime converter for a matplotlib plotting method. The converter was registered by pandas on import. Future versions of pandas will require you to explicitly register matplotlib converters.\n",
      "\n",
      "To register the converters:\n",
      "\t>>> from pandas.plotting import register_matplotlib_converters\n",
      "\t>>> register_matplotlib_converters()\n",
      "  warnings.warn(msg, FutureWarning)\n"
     ]
    },
    {
     "data": {
      "text/plain": [
       "<matplotlib.legend.Legend at 0x2140c89b160>"
      ]
     },
     "execution_count": 41,
     "metadata": {},
     "output_type": "execute_result"
    },
    {
     "data": {
      "image/png": "[encoded data removed]",
      "text/plain": [
       "<Figure size 720x360 with 1 Axes>"
      ]
     },
     "metadata": {
      "needs_background": "light"
     },
     "output_type": "display_data"
    }
   ],
   "source": [
    "#将数据离散化，以一分钟为采样间隔，取平均值\n",
    "plt.figure(figsize=(10,5))\n",
    "plt.xlabel('time')\n",
    "plt.ylabel('velocity(m/s)')\n",
    "plt.plot(data6['时间'],np.convolve(data6['速度'], np.ones((50,))/50, mode='same'),label = 'Moving average filtering')\n",
    "plt.plot(data6['时间'],data6['速度'],label='original value ')\n",
    "plt.legend()"
   ]
  },
  {
   "cell_type": "code",
   "execution_count": 42,
   "metadata": {},
   "outputs": [],
   "source": [
    "#绘图模块\n",
    "#plt.figure(figsize=(100,50))\n",
    "#plt.plot(data6['时间'],data6['速度'])\n",
    "#plt.show()"
   ]
  },
  {
   "cell_type": "code",
   "execution_count": null,
   "metadata": {},
   "outputs": [],
   "source": []
  },
  {
   "cell_type": "code",
   "execution_count": null,
   "metadata": {},
   "outputs": [],
   "source": []
  },
  {
   "cell_type": "code",
   "execution_count": null,
   "metadata": {},
   "outputs": [],
   "source": []
  }
 ],
 "metadata": {
  "kernelspec": {
   "display_name": "Python 3",
   "language": "python",
   "name": "python3"
  },
  "language_info": {
   "codemirror_mode": {
    "name": "ipython",
    "version": 3
   },
   "file_extension": ".py",
   "mimetype": "text/x-python",
   "name": "python",
   "nbconvert_exporter": "python",
   "pygments_lexer": "ipython3",
   "version": "3.7.3"
  }
 },
 "nbformat": 4,
 "nbformat_minor": 4
}
