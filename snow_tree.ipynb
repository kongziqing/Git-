{
 "cells": [
  {
   "cell_type": "code",
   "execution_count": 186,
   "metadata": {},
   "outputs": [],
   "source": [
    "from turtle import *\n",
    "from random import *\n",
    "from math import *\n",
    "\n",
    "def tree(n, l):\n",
    "    pd()#pendown()画笔落下，留下痕迹\n",
    "    #heading(笔的朝向)\n",
    "    #radians()将角度转化为弧度\n",
    "    #t = cos(radians(heading() + 45)) / 8 + 0.25#调色参数\n",
    "    t = cos(radians(heading() + 45)) / 8 + 0.25\n",
    "    pencolor(t, t, t)#画笔颜色\n",
    "    pensize(n / 4)#画笔宽度，枝干宽度\n",
    "    forward(l)#向前前进，l为行进距离，可以为负数\n",
    "    if n > 0:\n",
    "        b = random() * 15 + 10\n",
    "        c = random() * 15 + 10\n",
    "        d = l * (random() * 0.35 + 0.6)\n",
    "        right(b)#当前方向向右转过b角度\n",
    "        tree(n - 1, d)\n",
    "        left(b + c)#当前方向转过b+c角度\n",
    "        tree(n - 1, d)\n",
    "        right(c)#当前方向转过C角度\n",
    "    else:\n",
    "        right(90)#当前方向向右转90度\n",
    "        n = cos(radians(heading() - 45)) / 4 + 0.5\n",
    "        pencolor(n, n, n)\n",
    "        circle(2)#绘制半径为2像素的圆\n",
    "        left(90)#当前方向向左旋转90度\n",
    "    pu()#画笔抬起，不留下痕迹\n",
    "    backward(l)#当前画笔相反方向移动l像素长度\n",
    "\n",
    "\n",
    "def snow():\n",
    "    hideturtle()\n",
    "    #speed(100)\n",
    "    pensize(2)\n",
    "    for i in range(100):\n",
    "        #r=random()\n",
    "        #g=random()\n",
    "       # b=random()\n",
    "        pencolor(0.94,0.94,0.94)\n",
    "        penup()\n",
    "        setx(randint(-350,350))\n",
    "        sety(randint(-350,350))\n",
    "        pendown()\n",
    "        dens=randint(8,12)\n",
    "        snowsize=randint(1,5)\n",
    "        for j in range(dens):\n",
    "            forward(snowsize)\n",
    "            backward(snowsize)\n",
    "            right(360/dens)\n",
    "\n"
   ]
  },
  {
   "cell_type": "code",
   "execution_count": 187,
   "metadata": {},
   "outputs": [],
   "source": [
    "bgcolor(0.5, 0.5, 0.5)\n",
    "#ht()#隐藏龟兔标\n",
    "#st()#显示龟图标"
   ]
  },
  {
   "cell_type": "code",
   "execution_count": 188,
   "metadata": {},
   "outputs": [],
   "source": [
    "#speed(0)#设置画笔移动速度，画笔绘制的速度范围【0，10】整数，数字越大越快\n",
    "tracer(0, 0)#tracer通过实验\n",
    "#Turtle().screen.delay(0)"
   ]
  },
  {
   "cell_type": "code",
   "execution_count": 189,
   "metadata": {},
   "outputs": [],
   "source": [
    "left(90)#向左转90度"
   ]
  },
  {
   "cell_type": "code",
   "execution_count": 190,
   "metadata": {},
   "outputs": [],
   "source": [
    "pu()#画笔抬起，不留下痕迹"
   ]
  },
  {
   "cell_type": "code",
   "execution_count": 191,
   "metadata": {},
   "outputs": [],
   "source": [
    "goto(100,-300)#向后移动300长度"
   ]
  },
  {
   "cell_type": "code",
   "execution_count": 192,
   "metadata": {},
   "outputs": [],
   "source": [
    "setup(800, 600, 0, 0)#设置矩形窗口宽高\n",
    "tree(13, 100)#画数\n",
    "tree(12,80)#\n",
    "tree(11,70)\n",
    "pu()#画笔抬起，不留下痕迹\n",
    "goto(-100,-300)#向后移动300长度\n",
    "tree(10,60)\n",
    "tree(13, 50)#画数\n",
    "snow()\n",
    "snow()\n"
   ]
  },
  {
   "cell_type": "code",
   "execution_count": 193,
   "metadata": {},
   "outputs": [],
   "source": [
    "done()#关闭turtle，一般在使用完turtle后添加，否则会无响应，画完之后不挂逼窗口"
   ]
  },
  {
   "cell_type": "code",
   "execution_count": null,
   "metadata": {},
   "outputs": [],
   "source": []
  },
  {
   "cell_type": "code",
   "execution_count": null,
   "metadata": {},
   "outputs": [],
   "source": []
  },
  {
   "cell_type": "code",
   "execution_count": null,
   "metadata": {},
   "outputs": [],
   "source": []
  },
  {
   "cell_type": "code",
   "execution_count": null,
   "metadata": {},
   "outputs": [],
   "source": []
  },
  {
   "cell_type": "code",
   "execution_count": null,
   "metadata": {},
   "outputs": [],
   "source": []
  }
 ],
 "metadata": {
  "kernelspec": {
   "display_name": "Python 3",
   "language": "python",
   "name": "python3"
  },
  "language_info": {
   "codemirror_mode": {
    "name": "ipython",
    "version": 3
   },
   "file_extension": ".py",
   "mimetype": "text/x-python",
   "name": "python",
   "nbconvert_exporter": "python",
   "pygments_lexer": "ipython3",
   "version": "3.7.3"
  }
 },
 "nbformat": 4,
 "nbformat_minor": 4
}
